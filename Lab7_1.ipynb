{
  "nbformat": 4,
  "nbformat_minor": 0,
  "metadata": {
    "colab": {
      "provenance": [],
      "collapsed_sections": [],
      "authorship_tag": "ABX9TyMuiI+2kZ93YRI1mXQ2asAx",
      "include_colab_link": true
    },
    "kernelspec": {
      "name": "python3",
      "display_name": "Python 3"
    },
    "language_info": {
      "name": "python"
    }
  },
  "cells": [
    {
      "cell_type": "markdown",
      "metadata": {
        "id": "view-in-github",
        "colab_type": "text"
      },
      "source": [
        "<a href=\"https://colab.research.google.com/github/javachka11/Lab7_1/blob/main/Lab7_1.ipynb\" target=\"_parent\"><img src=\"https://colab.research.google.com/assets/colab-badge.svg\" alt=\"Open In Colab\"/></a>"
      ]
    },
    {
      "cell_type": "code",
      "source": [
        "import copy\n",
        "import numpy as np"
      ],
      "metadata": {
        "id": "jsW2jvAawhSH"
      },
      "execution_count": 15,
      "outputs": []
    },
    {
      "cell_type": "code",
      "execution_count": 9,
      "metadata": {
        "id": "qwabdKFQd4Fh"
      },
      "outputs": [],
      "source": [
        "class Lin_Sys:\n",
        "  def __init__(self, A, b):\n",
        "    self.A = A\n",
        "    self.b = b\n",
        "    self.n = len(A)\n",
        "\n",
        "  def __permute(self, i, j):\n",
        "    temp = self.S[i].copy()\n",
        "    self.S[i] = self.S[j].copy()\n",
        "    self.S[j] = temp\n",
        "    temp = self.bs[i]\n",
        "    self.bs[i] = self.bs[j]\n",
        "    self.bs[j] = temp\n",
        "\n",
        "  def __major(self, i, p):\n",
        "    t = i\n",
        "    while self.S[t][i] == 0: t+=1\n",
        "    max = t\n",
        "    if p:\n",
        "      for j in range(t+1, self.n):\n",
        "        if np.abs(self.S[j][i]) > np.abs(self.S[max][i]): max = j\n",
        "    self.__permute(max, i)\n",
        "      \n",
        "\n",
        "  def stupenka(self, p):\n",
        "    self.S = copy.deepcopy(self.A)\n",
        "    self.bs = copy.deepcopy(self.b)\n",
        "    \n",
        "    for k in range(1, self.n):\n",
        "      self.__major(k-1, p)\n",
        "\n",
        "      for i in range(k, self.n):\n",
        "        alpha = self.S[i][k-1] / self.S[k-1][k-1]\n",
        "        self.bs[i] -= alpha*self.bs[k-1]\n",
        "        for j in range(k-1, self.n):\n",
        "          self.S[i][j] -= alpha * self.S[k-1][j]\n",
        "\n",
        "  def solver(self, p):\n",
        "    self.stupenka(p)\n",
        "    self.x = copy.deepcopy(self.b)\n",
        "    for i in range(self.n-1, -1, -1):\n",
        "      sum = 0\n",
        "      for j in range(self.n-1, i, -1):\n",
        "        sum += self.S[i][j]*self.x[j]\n",
        "      self.x[i] = (self.bs[i] - sum)/self.S[i][i]\n",
        "\n",
        "  #метод для нахождения невязки\n",
        "  def nevyazka(self):\n",
        "    try:\n",
        "      self.r = []\n",
        "      for i in range(self.n):\n",
        "        sum = 0\n",
        "        for j in range(self.n):\n",
        "          sum += self.A[i][j]*self.x[j]\n",
        "        self.r.append(np.abs(self.b[i]-sum))\n",
        "      return max(self.r)\n",
        "    except AttributeError:\n",
        "      print(\"Вы ещё не нашли решение СЛАУ!\")"
      ]
    },
    {
      "cell_type": "code",
      "source": [
        "def builder():\n",
        "  A = []\n",
        "  b = []      \n",
        "  for i in range(100):\n",
        "    A.append([])\n",
        "    b.append(np.random.random()*100)\n",
        "    for j in range(100):\n",
        "      A[i].append(np.random.random()*100)\n",
        "  return (A, b)"
      ],
      "metadata": {
        "id": "NnxdkTsKgPjx"
      },
      "execution_count": 16,
      "outputs": []
    },
    {
      "cell_type": "code",
      "source": [
        "def main():\n",
        "  (A, b) = builder()\n",
        "  x = np.linalg.solve(A, b)\n",
        "  lin1 = Lin_Sys(A, b)\n",
        "  lin1.solver(False)\n",
        "  err1 = [np.abs(lin1.x[i] - x[i]) for i in range(lin1.n)]\n",
        "  print('Максимальная ошибка для метода Гаусса (стандартного)', max(err1))\n",
        "  nev1 = lin1.nevyazka()\n",
        "  print('Максимальная невязка для метода Гаусса (стандартного)', nev1, '\\n')\n",
        "\n",
        "  lin2 = Lin_Sys(A, b)\n",
        "  lin2.solver(True)\n",
        "  err2 = [np.abs(lin2.x[i] - x[i]) for i in range(lin2.n)]\n",
        "  print('Максимальная ошибка для метода Гаусса (с выбором главного элемента)', max(err2))\n",
        "  nev2 = lin2.nevyazka()\n",
        "  print('Максимальная невязка для метода Гаусса (с выбором главного элемента)', nev2)"
      ],
      "metadata": {
        "id": "uiq-BWxbj2wP"
      },
      "execution_count": 26,
      "outputs": []
    },
    {
      "cell_type": "code",
      "source": [
        "main()"
      ],
      "metadata": {
        "colab": {
          "base_uri": "https://localhost:8080/"
        },
        "id": "u0UkjCjj1RLq",
        "outputId": "665799bc-ca76-4429-ab5a-f20b1bc8f43a"
      },
      "execution_count": 27,
      "outputs": [
        {
          "output_type": "stream",
          "name": "stdout",
          "text": [
            "Максимальная ошибка для метода Гаусса (стандартного) 3.6011194026741578e-12\n",
            "Максимальная невязка для метода Гаусса (стандартного) 2.5481483589828713e-10 \n",
            "\n",
            "Максимальная ошибка для метода Гаусса (с выбором главного элемента) 1.6076029396572267e-13\n",
            "Максимальная невязка для метода Гаусса (с выбором главного элемента) 4.163780431554187e-12\n"
          ]
        }
      ]
    }
  ]
}